{
  "nbformat": 4,
  "nbformat_minor": 0,
  "metadata": {
    "colab": {
      "private_outputs": true,
      "provenance": [],
      "gpuType": "T4",
      "include_colab_link": true
    },
    "kernelspec": {
      "name": "python3",
      "display_name": "Python 3"
    },
    "language_info": {
      "name": "python"
    },
    "accelerator": "GPU"
  },
  "cells": [
    {
      "cell_type": "markdown",
      "metadata": {
        "id": "view-in-github",
        "colab_type": "text"
      },
      "source": [
        "<a href=\"https://colab.research.google.com/github/viberjet/Bark/blob/main/audio_webui_colab.ipynb\" target=\"_parent\"><img src=\"https://colab.research.google.com/assets/colab-badge.svg\" alt=\"Open In Colab\"/></a>"
      ]
    },
    {
      "cell_type": "markdown",
      "source": [
        "## Before running\n",
        "1. click on \"`Runtime`\".\n",
        "2. click on \"`Change runtime type`\".\n",
        "3. set \"`Hardware accelerator`\" to \"`GPU`\".\n",
        "4. click on \"`save`\"."
      ],
      "metadata": {
        "id": "sdEMR6I1E8F3"
      }
    },
    {
      "cell_type": "code",
      "source": [
        "# @title Activate audio (prevents automatic shutdown) { display-mode: \"form\" }\n",
        "%%html\n",
        "<audio src=\"https://oobabooga.github.io/silence.m4a\" controls>"
      ],
      "metadata": {
        "id": "OM2iVlTZC8CN"
      },
      "execution_count": null,
      "outputs": []
    },
    {
      "cell_type": "code",
      "execution_count": null,
      "metadata": {
        "id": "4BNv3IMvDMjX"
      },
      "outputs": [],
      "source": [
        "#@title Setup { display-mode: \"form\" }\n",
        "#@markdown 1. Clones https://github.com/gitmylo/audio-webui/\n",
        "#@markdown 2. Cd's into `audio-webui`\n",
        "#@markdown 3. Fix some google colab default packages\n",
        "#@markdown 4. Installs packages through install.py\n",
        "\n",
        "!git clone https://github.com/gitmylo/audio-webui/\n",
        "%cd /content/audio-webui\n",
        "\n",
        "!pip uninstall tensorflow -y\n",
        "!pip install numpy==1.23.5\n",
        "!python install.py --skip-venv"
      ]
    },
    {
      "cell_type": "code",
      "source": [
        "!pip install --upgrade beartype"
      ],
      "metadata": {
        "id": "oug_0XjlPk76"
      },
      "execution_count": null,
      "outputs": []
    },
    {
      "cell_type": "code",
      "source": [
        "!cp /usr/local/lib/python3.10/dist-packages/torch/onnx/symbolic_helper.py /usr/local/lib/python3.10/dist-packages/torch/onnx/symbolic_helper.py.bak"
      ],
      "metadata": {
        "id": "6FDDFQrZSJpB"
      },
      "execution_count": null,
      "outputs": []
    },
    {
      "cell_type": "code",
      "source": [
        "!sed -i 's/-> NoReturn//g' /usr/local/lib/python3.10/dist-packages/torch/onnx/symbolic_helper.py"
      ],
      "metadata": {
        "id": "JENkAellSSI4"
      },
      "execution_count": null,
      "outputs": []
    },
    {
      "cell_type": "code",
      "source": [
        "#@title Launching { display-mode: \"form\" }\n",
        "username = 'viberjet' #@param {type:\"string\"}\n",
        "#@markdown Default: \"`user`\"<br>\n",
        "#@markdown Sets the username for the webui\n",
        "\n",
        "#@markdown\n",
        "\n",
        "password = 'Veniks888' #@param {type:\"string\"}\n",
        "#@markdown Default: \"`pass`\", **please change this**<br>\n",
        "#@markdown Sets the password for the webui\n",
        "\n",
        "#@markdown\n",
        "\n",
        "args = '' #@param {type:\"string\"}\n",
        "#@markdown Default: empty<br>\n",
        "#@markdown Sets the other args for the webui\n",
        "\n",
        "#@markdown\n",
        "\n",
        "args = f'-sv -si {args} -s -u \"{username}\" -p \"{password}\"'\n",
        "!python main.py $args"
      ],
      "metadata": {
        "id": "LqmO0xhlJxVa"
      },
      "execution_count": null,
      "outputs": []
    }
  ]
}